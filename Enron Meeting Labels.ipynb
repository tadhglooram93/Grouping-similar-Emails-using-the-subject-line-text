{
 "cells": [
  {
   "cell_type": "markdown",
   "metadata": {},
   "source": [
    "# Project: Clustering Enron emails\n",
    "This project attempted to group similar enron emails using Kmeans clustering with Word2vec. For this I downloaded the emails from https://www.cs.cmu.edu/~enron/from and used the subject field."
   ]
  },
  {
   "cell_type": "code",
   "execution_count": 2,
   "metadata": {},
   "outputs": [],
   "source": [
    "import numpy as np\n",
    "import pandas as pd\n",
    "import re\n",
    "from nltk.tokenize import word_tokenize\n",
    "from nltk.tokenize import sent_tokenize\n",
    "import nltk\n",
    "from gensim.models import Word2Vec \n",
    "import matplotlib.pyplot as plt\n",
    "from sklearn import cluster\n",
    "from sklearn.cluster import KMeans\n",
    "import dash\n",
    "from jupyter_dash import JupyterDash\n",
    "from dash.dependencies import Input, Output\n",
    "from dash import dash_table\n",
    "import dash_html_components as html"
   ]
  },
  {
   "cell_type": "code",
   "execution_count": 3,
   "metadata": {},
   "outputs": [],
   "source": [
    "#load data\n",
    "df2 = pd.read_csv(r'C:\\Users\\tadhg\\OneDrive\\Python\\Enron Email classification\\Enron_meentings_bunch1.csv')\n",
    "#clean text and save as list\n",
    "clean_body = []\n",
    "for i in df2['Subject']:\n",
    "    #replace \\n with a space\n",
    "    temp = str(i).replace('\\n',' ')\n",
    "    #remove numbers\n",
    "    digits = '[0-9]'\n",
    "    temp = re.sub(digits, ' ', temp)\n",
    "    #remo special characters\n",
    "    temp = re.sub(r\"[^a-zA-Z0-9]+\", ' ', temp)\n",
    "    clean_body.append(temp)\n",
    "try:\n",
    "    clean_body.remove(' ')   \n",
    "except:\n",
    "    pass"
   ]
  },
  {
   "cell_type": "code",
   "execution_count": 4,
   "metadata": {},
   "outputs": [],
   "source": [
    "#create list of tokenized sentences\n",
    "body_sentence = list()\n",
    "i = 0\n",
    "while i < len(clean_body):\n",
    "    temp = word_tokenize(clean_body[i])\n",
    "    body_sentence.append(temp)\n",
    "    i += 1   "
   ]
  },
  {
   "cell_type": "code",
   "execution_count": 5,
   "metadata": {},
   "outputs": [],
   "source": [
    "#create Word Vector Model\n",
    "m = Word2Vec(body_sentence, size =100, min_count=1,sg=1)\n",
    "def vectorizer(sent,m):\n",
    "    vec=[]\n",
    "    numw=0\n",
    "    for w in sent:\n",
    "        try:\n",
    "            if numw ==0:\n",
    "                vec = m[w]\n",
    "            else: \n",
    "                vec = np.add(vec, m[w])\n",
    "            numw+=1\n",
    "        except:\n",
    "            pass\n",
    "        return np.asarray(vec) / numw"
   ]
  },
  {
   "cell_type": "code",
   "execution_count": 6,
   "metadata": {},
   "outputs": [
    {
     "name": "stderr",
     "output_type": "stream",
     "text": [
      "c:\\devtools\\python\\python37\\lib\\site-packages\\ipykernel_launcher.py:9: DeprecationWarning: Call to deprecated `__getitem__` (Method will be removed in 4.0.0, use self.wv.__getitem__() instead).\n",
      "  if __name__ == '__main__':\n"
     ]
    }
   ],
   "source": [
    "# Apply vectorizer function to return sentences as vectors\n",
    "l =[]\n",
    "for i in body_sentence:\n",
    "    l.append(vectorizer(i,m))\n",
    "x=np.array(l)"
   ]
  },
  {
   "cell_type": "code",
   "execution_count": 7,
   "metadata": {
    "scrolled": true
   },
   "outputs": [
    {
     "data": {
      "image/png": "[encoded data removed]",
      "text/plain": [
       "<Figure size 432x288 with 1 Axes>"
      ]
     },
     "metadata": {
      "needs_background": "light"
     },
     "output_type": "display_data"
    }
   ],
   "source": [
    "# Use the elbow method to determine number of clusters\n",
    "wcss =[]\n",
    "for i in range(1,20):\n",
    "    kmeans = KMeans(n_clusters = i, init = 'k-means++',random_state=42)\n",
    "    kmeans.fit(x)\n",
    "    wcss.append(kmeans.inertia_)\n",
    "plt.plot(range(1,20),wcss)\n",
    "plt.title('Elbow Method')\n",
    "plt.xlabel('Number of clusters')\n",
    "plt.ylabel('WCSS')\n",
    "plt.show()"
   ]
  },
  {
   "cell_type": "code",
   "execution_count": 8,
   "metadata": {},
   "outputs": [],
   "source": [
    "#determine the number of clusters \n",
    "n_clusters = 8\n",
    "clf = KMeans(n_clusters = n_clusters,\n",
    "             max_iter=100,\n",
    "             init='k-means++',\n",
    "             n_init=1)\n",
    "labels = clf.fit_predict(x)"
   ]
  },
  {
   "cell_type": "code",
   "execution_count": 9,
   "metadata": {},
   "outputs": [],
   "source": [
    "#Assign the labels to the subject and export the output\n",
    "body_df = pd.DataFrame(clean_body,columns=['Subject'])\n",
    "labes_df = pd.DataFrame(labels, columns =['Clusters'])\n",
    "clusters = body_df.join(labes_df)\n",
    "clusters.to_csv(r'C:\\Users\\tadhg\\OneDrive\\Python\\Enron Email classification\\clusters_Subject.csv')"
   ]
  },
  {
   "cell_type": "code",
   "execution_count": 10,
   "metadata": {},
   "outputs": [
    {
     "data": {
      "text/html": [
       "\n",
       "        <iframe\n",
       "            width=\"100%\"\n",
       "            height=\"650\"\n",
       "            src=\"http://127.0.0.1:8050/\"\n",
       "            frameborder=\"0\"\n",
       "            allowfullscreen\n",
       "        ></iframe>\n",
       "        "
      ],
      "text/plain": [
       "<IPython.lib.display.IFrame at 0x101fc5b4c08>"
      ]
     },
     "metadata": {},
     "output_type": "display_data"
    }
   ],
   "source": [
    "# table with Cluster filters to explore the results:\n",
    "app = JupyterDash(__name__)\n",
    "\n",
    "app.layout = dash_table.DataTable(\n",
    "    columns=[\n",
    "        {'name': 'Subject', 'id': 'Subject', 'type': 'text'},\n",
    "        {'name': 'Clusters', 'id': 'Clusters', 'type': 'numeric'},\n",
    "    ],\n",
    "    data=clusters.to_dict('records'),\n",
    "    filter_action='native',\n",
    "\n",
    "    style_table={\n",
    "        'height': 200,\n",
    "    },\n",
    "    style_data={\n",
    "        'width': '75px', 'minWidth': '75px', 'maxWidth': '75px',\n",
    "        'overflow': 'hidden',\n",
    "        'textOverflow': 'ellipsis',\n",
    "    }\n",
    ")\n",
    "app.run_server(mode='inline')"
   ]
  }
 ],
 "metadata": {
  "kernelspec": {
   "display_name": "Python 3",
   "language": "python",
   "name": "python3"
  },
  "language_info": {
   "codemirror_mode": {
    "name": "ipython",
    "version": 3
   },
   "file_extension": ".py",
   "mimetype": "text/x-python",
   "name": "python",
   "nbconvert_exporter": "python",
   "pygments_lexer": "ipython3",
   "version": "3.7.9"
  }
 },
 "nbformat": 4,
 "nbformat_minor": 4
}
